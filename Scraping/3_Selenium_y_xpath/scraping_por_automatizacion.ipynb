{
  "cells": [
    {
      "cell_type": "markdown",
      "metadata": {
        "id": "tXugTXVog58V"
      },
      "source": [
        "<a href=\"https://colab.research.google.com/github/institutohumai/cursos-python/blob/auto/Scraping/3_Selenium_y_xpath/scraping_por_automatizacion.ipynb\" target=\"_parent\"><img src=\"https://colab.research.google.com/assets/colab-badge.svg\" alt=\"Open In Colab\" data-canonical-src=\"https://colab.research.google.com/assets/colab-badge.svg\"></a>"
      ]
    },
    {
      "cell_type": "markdown",
      "metadata": {
        "id": "sMvL5m3GVuK-"
      },
      "source": [
        "# Scraping por Automatización con Selenium"
      ]
    },
    {
      "cell_type": "markdown",
      "metadata": {
        "id": "YhLG1LMEVhr9"
      },
      "source": [
        "## **XPath (XML Path Language)**\n",
        "\n",
        "Un selector muy utilizado es el [**Xpath**](https://es.wikipedia.org/wiki/XPath), basado en un lenguaje diseñado para localizar elementos en un archivo XML o HTML.\n",
        "\n",
        "Es una manera de recorrer un árbol como por ejemplo el DOM (*document object model*).\n",
        "\n",
        "Por ejempllo si vamos a la [página del Instituto Humai](https://ihum.ai/) y presionamos `f12` veremos esto:\n",
        "\n",
        "<img src=\"https://i.ibb.co/cNM04jP/copy-xpath.png\" alt=\"copy-xpath\" width=\"1000\">\n",
        "\n",
        "Existen dos maneras de acceder a un elemento usando Xpath:\n",
        "\n",
        "### XPath absoluto\n",
        "* Contiene la ruta completa desde el elemento raiz hasta el elemento de interes. <br> Ejemplo: `/html/body/section[3]/div[2]/a[2]/div/div[1]/img`\n",
        "  * Contra: Cualquier cambio en la ruta del elemento hace que ya no se acceda de esa forma.\n",
        "\n",
        "### XPath relativo\n",
        "* Comienza haciendo referencia al elemento que queremos ubicar en relación con una ubicación particular. Esto significa que el elemento está posicionado con relación a su posición normal. <br> Ejemplo: \n",
        "`//*[@id=\"que-hacemos-a-tag\"]/div/div[1]/img`\n",
        "  * Cualquier cambio en el diseño de la página o la jerarquía DOM tendrá un impacto mínimo (o nulo) en el selector XPath existente.\n",
        "  * Su estructura básica es la siguiente: <br>\n",
        "  <font size=6>\n",
        "  <center>\n",
        "  <font color='red'>//</font><font color='blue'>nombreDelTag</font>[@<font color='green'>Atributo</font>=<font color='purple'>\"valor\"</font>]\n",
        "</center>\n",
        "<font>\n",
        "\n",
        "### Seleccion de nodos desconocidos\n",
        "\n",
        "* El asterisco (**\\***) o *wildcard* sirve como reemplazo para el nombre del tag, funcionando como comodín para cualquiera de ellos. <br>\n",
        "Ejemplo: `//*[@id=\"soy_un_div\"]`\n",
        "\n",
        "\n",
        "* El arroba seguido de asterisco (**\\@***) *matchea* cualquier atributo de un elemento. <br>\n",
        "Ejemplo: `//h2[@*=\"soy_un_subtitulo\"]`\n",
        "\n",
        "### Algunas funciones\n",
        "\n",
        "* `contains()` permite ver si un elemento contiene una *string* en particular. No es necesario que sea match exacto, sino que forme parte de la *string*.<br>\n",
        "Ejemplo: `//div[contains(@class,\"que\")]`\n",
        "\n",
        "* ` text() ` nos permite obtener un elemento en base al texto que tiene dentro del tag <br>\n",
        "Ejemplo: `//*[text()=\"SABER MÁS\"]`\n",
        "\n",
        "Tambien los podriamos usar juntos: `//*[contains(text(),\"SABER\")]` 🤯\n",
        "\n",
        "\n",
        "\n",
        "\n",
        "**Hay mucho mucho más!** <br>\n",
        "\n",
        "Xpath cheatsheet super completa: https://www.lambdatest.com/blog/most-exhaustive-xpath-locators-cheat-sheet/\n",
        "\n"
      ]
    },
    {
      "cell_type": "markdown",
      "metadata": {
        "id": "IlqNHdOqVhr3"
      },
      "source": [
        "## **Robots que controlan nuestro navegador** 🦾\n",
        "\n",
        "A veces los sitios webs tienen ciertas características que hacen que los métodos que venimos utilizando no funcionen.\n",
        "\n",
        "En esos casos uno puede intentar desarrollar una especie de robot que controle nuestro navegador interactuando con internet de igual forma que lo hace un humano. Hay una herramienta llamada __Selenium__ que puede utilizarse exactamente para eso.\n",
        "\n",
        "\n",
        "### ¿Como se hace para programar un robot para que utilice un sitio web?\n",
        "\n",
        "Lo principal es saber como localizar un elemento en la pagina.\n",
        "Selenium nos permite hacerlo de diversas formas (id, tag, clase, selector de CSS, etc)"
      ]
    },
    {
      "cell_type": "markdown",
      "metadata": {
        "id": "yjduskN_aU8C"
      },
      "source": [
        "## **Web scraping avanzado con Selenium**\n",
        "\n",
        "<img src=\"https://selenium-python.readthedocs.io/_static/logo.png\" alt=\"selenium-logo\">\n",
        "\n",
        "### ¿Qué es Selenium?\n",
        "* Es una herramienta de testing y automatización que tiene una API para Python (entre otros lenguajes)\n",
        "\n",
        "* No fue pensado específicamente para web scraping ni web crawling, pero gracias al sistema cliente/servidor Web Driver permite utilizar un navegador de forma local o en remoto.\n",
        "Esto nos da acceso a un navegador con el que podemos recorrer la web.\n",
        "\n",
        "### ¿En qué casos podria resultarnos util?\n",
        "* Páginas dinámicas (por ej: [AJAX](https://developer.mozilla.org/es/docs/Web/Guide/AJAX), [lazy loading](https://developer.mozilla.org/en-US/docs/Web/Performance/Lazy_loading))\n",
        "* Scrolleo infinito\n",
        "* Completar formularios, autenticación, pop ups, manejo de sesiones, ¿captchas?,  etc  ...\n",
        "\n",
        "* va a permitirnos recorrer internet con un navegador \"virtual\", permitiéndonos hacer click, scroll, etc.\n",
        "\n",
        "* En Google Colab solo podremos usarlo sin interfaz grafica (*headless*).\n",
        "\n",
        "\n",
        "Si podemos ver esa informacion en el navegador, deberiamos poder *scrapearla*.\n",
        "\n",
        "- Documentacion oficial: https://www.selenium.dev/documentation/\n",
        "- Documentacion no oficial pero recomendada: https://selenium-python.readthedocs.io/\n",
        "\n"
      ]
    },
    {
      "cell_type": "markdown",
      "metadata": {
        "id": "pRcpDhKurGsk"
      },
      "source": [
        "## **Hola mundo con Selenium: Buscar en google**\n",
        "\n",
        "Veamos un poco como se usa esta nueva herramienta.\n",
        "\n",
        "La base de Selenium (y un poco del web scraping en general) es la selección de elementos en la web. Para esto nos provee varios métodos:\n",
        "\n",
        "\n",
        "Para aprender más: https://selenium-python.readthedocs.io/locating-elements.html"
      ]
    },
    {
      "cell_type": "markdown",
      "metadata": {
        "id": "ZM1uR67U102y"
      },
      "source": [
        "### Instalación y configuración"
      ]
    },
    {
      "cell_type": "code",
      "execution_count": null,
      "metadata": {
        "id": "gB435MUYWWYG"
      },
      "outputs": [],
      "source": [
        "# Ver https://stackoverflow.com/questions/51046454/how-can-we-use-selenium-webdriver-in-colab-research-google-com\n",
        "\n",
        "# Instalación de dependencias en la compu que nos presta Google\n",
        "!pip install selenium\n",
        "!apt-get update \n",
        "!apt install chromium-chromedriver -q\n",
        "\n",
        "import sys\n",
        "sys.path.insert(0,'/usr/lib/chromium-browser/chromedriver')\n",
        "from selenium import webdriver\n",
        "from selenium.webdriver.support.ui import Select\n",
        "from selenium.webdriver.common.keys import Keys\n",
        "from selenium.webdriver.support.ui import WebDriverWait \n",
        "from selenium.webdriver.common.by import By\n",
        "from selenium.webdriver.support import expected_conditions as EC\n",
        "\n",
        "options = webdriver.ChromeOptions() # Usamos chrome, se podria usar otro.\n",
        "options.add_argument('--headless') # Chromium sin interfaz grafica\n",
        "options.add_argument('--no-sandbox') # Seguridad\n",
        "options.add_argument('--disable-dev-shm-usage') # configuracion de linux\n",
        "options.add_argument('--user-agent=\"\"Mozilla/5.0 (Windows NT 10.0; Win64; x64) AppleWebKit/537.36 (KHTML, like Gecko) Chrome/74.0.3729.157 Safari/537.36\"\"') # user agent\n",
        "\n",
        "driver = webdriver.Chrome('chromedriver',options=options)"
      ]
    },
    {
      "cell_type": "code",
      "source": [
        "# Configuramos el web driver\n",
        "wd = webdriver.Chrome('chromedriver',options=options)\n",
        "\n",
        "# Probemos buscando en google automágicamente\n",
        "url = \"https://www.google.com/\" \n",
        "wd.get(url)\n",
        "\n",
        "# Aca lo que hacemos es usar las funciones de `expected_conditions` para no clickear hasta que se haya cargado el elemento\n",
        "WebDriverWait(wd, 10).until(EC.element_to_be_clickable((By.XPATH, \"//input[@name='q']\")))\n",
        "\n",
        "input = wd.find_element(By.XPATH, \"//input[@name='q']\")\n",
        "\n",
        "input.send_keys(\"humai inteligencia artificial\" + Keys.ENTER)\n"
      ],
      "metadata": {
        "id": "jWrStt6NBTN6"
      },
      "execution_count": null,
      "outputs": []
    },
    {
      "cell_type": "code",
      "source": [
        "# tomemos un screenshot\n",
        "wd.save_screenshot('screenshot_google.png')"
      ],
      "metadata": {
        "id": "xe9Ju-KaFKuN"
      },
      "execution_count": null,
      "outputs": []
    },
    {
      "cell_type": "code",
      "source": [
        "wd.close()"
      ],
      "metadata": {
        "id": "Z6oTgQtAiETs"
      },
      "execution_count": null,
      "outputs": []
    },
    {
      "cell_type": "code",
      "source": [
        "# Otro ejemplo\n",
        "\n",
        "# Configuramos el web driver\n",
        "wd = webdriver.Chrome('chromedriver',options=options)\n",
        "\n",
        "url = \"https://www.wikipedia.org/\" \n",
        "wd.get(url)\n",
        "\n",
        "# Tiempo  de espera ( si encuentra antes, no espera)\n",
        "wd.implicitly_wait(20)\n",
        "\n",
        "# Busco el boton de wikipedia en español\n",
        "boton_wiki_esp = wd.find_element(By.ID, 'js-link-box-es')\n",
        "\n",
        "# Le hago click\n",
        "boton_wiki_esp.click()\n",
        "\n",
        "hello_wiki = wd.find_element(By.ID,'Bienvenidos_a_Wikipedia,')\n",
        "main_article = wd.find_element(By.ID,'main-tfa')\n",
        "\n",
        "print(f'Texto de bienvenida:\\n {hello_wiki.text}\\n')\n",
        "print(f'Texto del articulo destacado:\\n{main_article.text}')"
      ],
      "metadata": {
        "id": "8pzQgOtTGep3"
      },
      "execution_count": null,
      "outputs": []
    },
    {
      "cell_type": "code",
      "execution_count": null,
      "metadata": {
        "id": "Hzc538_7rGs4",
        "colab": {
          "base_uri": "https://localhost:8080/"
        },
        "outputId": "e2a1c42d-12fd-48b2-e7b9-ca7abd9ec3a3"
      },
      "outputs": [
        {
          "output_type": "stream",
          "name": "stdout",
          "text": [
            "Heading: \n",
            "Procesamiento de lenguajes naturales\n"
          ]
        }
      ],
      "source": [
        "# El input del formulario de busqueda\n",
        "\n",
        "search_input = wd.find_element(By.ID,'searchInput')\n",
        "\n",
        "# El boton de busqueda\n",
        "search_button = wd.find_element(By.ID,'searchButton')\n",
        "\n",
        "# Envio el texto que quiero que ponga en el formulario\n",
        "search_input.send_keys('Procesamiento del lenguaje natural')\n",
        "\n",
        "#Hago click\n",
        "search_button.click()\n",
        "\n",
        "# Imprimo el título de la página a la que se accedió\n",
        "heading = wd.find_element(By.ID,\"firstHeading\")\n",
        "print(f'Heading: \\n{heading.text}') "
      ]
    },
    {
      "cell_type": "code",
      "source": [
        "# Podemos sacar una captura de pantalla \n",
        "wd.save_screenshot('screenshot_wikipedia.png')"
      ],
      "metadata": {
        "colab": {
          "base_uri": "https://localhost:8080/"
        },
        "id": "rmM5u7D7G3nm",
        "outputId": "ea90ab5a-4b3b-4889-a94e-33bbbf6ec21f"
      },
      "execution_count": null,
      "outputs": [
        {
          "output_type": "execute_result",
          "data": {
            "text/plain": [
              "True"
            ]
          },
          "metadata": {},
          "execution_count": 6
        }
      ]
    },
    {
      "cell_type": "code",
      "execution_count": null,
      "metadata": {
        "id": "_PuzfMY9VhsE"
      },
      "outputs": [],
      "source": [
        "# Cerramos el web driver\n",
        "wd.close()"
      ]
    },
    {
      "cell_type": "markdown",
      "metadata": {
        "id": "xmgNyogU9w5U"
      },
      "source": [
        "## **Caso de uso Nº 1: Scroll infinito**\n",
        "\n",
        "Existen páginas que no muestran todo el contenido a menos que vayamos hasta abajo (*scroll*). Esta acción dispara un evento de javascript que renderiza más HTML y por lo tanto vemos contenido nuevo.\n",
        "\n",
        "Podemos emular la acción de mediante Selenium."
      ]
    },
    {
      "cell_type": "code",
      "execution_count": null,
      "metadata": {
        "id": "UwqqBs_P96cW"
      },
      "outputs": [],
      "source": [
        "# Configuramos el web driver\n",
        "driver = webdriver.Chrome('chromedriver',options=options)\n",
        "\n",
        "# Hacemos el pedido a la URL\n",
        "url = \"https://infinite-scroll.com/demo/full-page/\" \n",
        "driver.get(url)\n",
        "\n",
        "# Busco todos los h2 (notar la sutileza del metodo elements con la 's' al final)\n",
        "h2_list = driver.find_elements(By.CSS_SELECTOR, 'h2')\n",
        "for h2 in h2_list:\n",
        "  print(h2.text)"
      ]
    },
    {
      "cell_type": "markdown",
      "metadata": {
        "id": "rgrP5sUH-iws"
      },
      "source": [
        "Ahora veamos si obtenemos los mismos `h2` si utilizamos selenium para hacer *scroll*"
      ]
    },
    {
      "cell_type": "code",
      "execution_count": null,
      "metadata": {
        "id": "1DlxEjmK9zLC"
      },
      "outputs": [],
      "source": [
        "driver.save_screenshot(f'infinite_page.screenshot.png')\n",
        "\n",
        "# Hago lo mismo que antes pero iterando 5 veces y pidiendole que scrollee hasta el final cada vez y saque un screenshot\n",
        "for i in range(5):\n",
        "  print(f'Iteracion numero {i+1}\\n\\n')\n",
        "  driver.save_screenshot(f'infinite_page_{i+1}.screenshot.png')\n",
        "  # el metodo execute_script me permite ejecutar codigo de javascript, en este caso para ir al final de la pagina\n",
        "  driver.execute_script(\"window.scrollTo(0, document.body.scrollHeight);\") \n",
        "  h2_list = driver.find_elements(By.CSS_SELECTOR, 'h2')\n",
        "  \n",
        "  for h2 in h2_list:\n",
        "    print(h2.text)\n",
        "  print('\\n\\n')"
      ]
    },
    {
      "cell_type": "code",
      "execution_count": null,
      "metadata": {
        "id": "5c5ICJi8UTYG"
      },
      "outputs": [],
      "source": [
        "driver.close()"
      ]
    },
    {
      "cell_type": "markdown",
      "metadata": {
        "id": "uOjIXqJWMBzp"
      },
      "source": [
        "## **Caso de uso Nº 2: Páginas que usan JavaScript para mostrar el contenido de manera asíncrona**\n",
        "\n",
        "* Hay páginas que cuando hacemos un request a su URL no nos devuelve lo que esperamos. Sino bastante código de JavaScript (entre etiquetas `<script>`)\n",
        "\n",
        "* En esos casos hay que esperar un tiempo y/o interactuar con la pagina.\n",
        "\n",
        "Ejemplo: http://www.parrocchiemap.it/parrocchiemap/ricerca_pm.jsp?diocesi=Milano&idzonapastoraler=296\n",
        "\n"
      ]
    },
    {
      "cell_type": "code",
      "execution_count": null,
      "metadata": {
        "id": "aFWyNIwvP-dW"
      },
      "outputs": [],
      "source": [
        "# options = webdriver.ChromeOptions() # Usamos chrome, se podria usar otro.\n",
        "# options.add_argument('--headless')\n",
        "# options.add_argument('--no-sandbox')\n",
        "# options.add_argument('--disable-dev-shm-usage')\n",
        "\n",
        "idzonapastorale_value = []\n",
        "idzonapastorale_text = []\n",
        "\n",
        "driver = webdriver.Chrome('chromedriver',options=options)\n",
        "\n",
        "url = \"http://www.parrocchiemap.it/parrocchiemap/ricerca_pm.jsp?diocesi=Milano&idzonapastoraler=296\"\n",
        "\n",
        "# Hacemos el pedido a la URL\n",
        "driver.get(url)\n",
        "\n",
        "# Ejecuto codigo de javacript para ir al final de la pagina\n",
        "driver.execute_script(\"window.scrollTo(0, document.body.scrollHeight);\") \n",
        "\n",
        "# # Espero a que cargue la pagina\n",
        "WebDriverWait(driver, timeout=5)\n",
        "\n",
        "\n",
        "# El metodo Select nos permite acceder a las opciones en un menu desplegable (drop-down)\n",
        "select = Select(driver.find_element(By.ID, 'idzonapastorale'))\n",
        "for item in select.options:\n",
        "    print(item.get_attribute('innerText'), item.get_attribute('value')) \n",
        "    idzonapastorale_value.append(item.get_attribute('value'))\n",
        "    idzonapastorale_text.append(item.get_attribute('innerText'))"
      ]
    },
    {
      "cell_type": "code",
      "execution_count": null,
      "metadata": {
        "id": "LQ4UdD8Aa2At"
      },
      "outputs": [],
      "source": [
        "pagesource_list = []\n",
        "\n",
        "diocesi = 'Milano' \n",
        "for zona in idzonapastorale_value:\n",
        "  print(f'Mirando la zona: {zona}' )\n",
        "  # Configuramos el web driver\n",
        "  driver = webdriver.Chrome('chromedriver',options=options)\n",
        "  idzonapastorale = zona\n",
        "  url = f\"http://www.parrocchiemap.it/parrocchiemap/ricerca_pm.jsp?diocesi={diocesi}&idzonapastoraler={idzonapastorale}\" \n",
        "\n",
        "  # Hacemos el pedido a la URL\n",
        "  driver.get(url)\n",
        "\n",
        "  driver.execute_script(\"window.scrollTo(0, document.body.scrollHeight);\") \n",
        "\n",
        "  # # Espero a que cargue la pagina a la vieja usanza\n",
        "  # time.sleep(10) \n",
        "  WebDriverWait(driver, timeout=5)\n",
        "\n",
        "  # Cambio el driver para que este en el iframe\n",
        "  driver.switch_to.frame(driver.find_element(By.TAG_NAME, \"iframe\"))\n",
        "\n",
        "  # Una manera de quedarse con el HTML\n",
        "  html = driver.execute_script(\"return document.getElementsByTagName('html')[0].innerHTML\")\n",
        "\n",
        "  # Otra manera usando el atributo del web driver\n",
        "  pageSource = driver.page_source\n",
        "\n",
        "  pagesource_list.append(pageSource)\n",
        "\n",
        "  driver.save_screenshot(f'screenshot_{zona}.png')"
      ]
    },
    {
      "cell_type": "code",
      "execution_count": null,
      "metadata": {
        "id": "E-11V9hna_4H"
      },
      "outputs": [],
      "source": [
        "# Proceso los mails\n",
        "\n",
        "import re\n",
        "\n",
        "def procesar_mails(pagesource_list):\n",
        "  mails_total = []\n",
        "\n",
        "  for zona in pagesource_list:\n",
        "    mails = []\n",
        "    pos = []\n",
        "    # obteniendo los mails\n",
        "    match = re.findall(r'(mailto:\\S+@\\S+)', zona)\n",
        "    \n",
        "    for num, i in enumerate(match):\n",
        "      pos.append(num)\n",
        "      lista = i.split('+')\n",
        "      mail = ''.join(lista[0][7:].replace(\"'\", \"\")+lista[1].replace(\"'\", \"\")+lista[2].replace(\"'\", \"\")).split(',')[0].split(';')[0]\n",
        "      mails.append(mail)\n",
        "\n",
        "    mails_total.append(mails)\n",
        "\n",
        "  return mails_total\n",
        "\n",
        "mails_total = procesar_mails(pagesource_list)"
      ]
    },
    {
      "cell_type": "code",
      "execution_count": null,
      "metadata": {
        "id": "R9SWIzsmbD8O"
      },
      "outputs": [],
      "source": [
        "# Armo un Pandas Dataframe en base al diccionario\n",
        "import pandas as pd\n",
        "\n",
        "diccionario_mails = dict()\n",
        "df_list = [] \n",
        "for num, zona in enumerate(idzonapastorale_text[1:]):\n",
        "   diccionario_mails[f'df{num+1}']= pd.DataFrame(mails_total[num+1], columns=[f'{zona}'])\n",
        "   df_list.append(diccionario_mails[f'df{num+1}'])\n",
        "\n",
        "df_final = pd.concat(df_list, axis=1)\n",
        "df_final"
      ]
    },
    {
      "cell_type": "code",
      "execution_count": null,
      "metadata": {
        "id": "bn-vl0BGbJLA"
      },
      "outputs": [],
      "source": [
        "# Pasamos el dataframe a formato csv\n",
        "df_final.to_csv() # Si pasan como argumento un string con el nombre del archivo lo guarda. Ej: 'datos.csv'"
      ]
    },
    {
      "cell_type": "code",
      "source": [
        "driver.close()"
      ],
      "metadata": {
        "id": "o1d9HBfjjVLj"
      },
      "execution_count": null,
      "outputs": []
    },
    {
      "cell_type": "markdown",
      "metadata": {
        "id": "Ntfb16H_6ldE"
      },
      "source": [
        "## **Caso de uso Nº 3: Alertas, prompts y confirmaciones**\n",
        "\n",
        "La idea es aprender como lidiar con distintos tipos de ventanas emergentes que pueden aparecer mientras nuestro scrapper está funcionando."
      ]
    },
    {
      "cell_type": "markdown",
      "metadata": {
        "id": "664uP2v5MzK3"
      },
      "source": [
        "alerta simple de javascript"
      ]
    },
    {
      "cell_type": "code",
      "execution_count": null,
      "metadata": {
        "id": "bkiCRPKYM1xb"
      },
      "outputs": [],
      "source": [
        "driver = webdriver.Chrome('chromedriver',options=options)\n",
        "\n",
        "url = \"https://www.selenium.dev/documentation/webdriver/js_alerts_prompts_and_confirmations/\" \n",
        "\n",
        "# Hacemos el pedido a la URL\n",
        "driver.get(url)\n",
        "\n",
        "# Click para activar al alerta\n",
        "driver.find_element(By.LINK_TEXT, \"See an example alert\").click()\n",
        "# Wait for the alert to be displayed and store it in a variable\n",
        "WebDriverWait(driver, 10).until(EC.alert_is_present())\n",
        "\n",
        "alert = driver.switch_to.alert\n",
        "\n",
        "print('Texto de la alerta: ', alert.text)\n",
        "\n",
        "# Aceptamos\n",
        "alert.accept()\n",
        "\n"
      ]
    },
    {
      "cell_type": "code",
      "source": [
        "wd.save_screenshot('screenshot_alert1.png')"
      ],
      "metadata": {
        "id": "PRf1dJ5wJ7KQ"
      },
      "execution_count": null,
      "outputs": []
    },
    {
      "cell_type": "code",
      "source": [
        "driver.close()"
      ],
      "metadata": {
        "id": "F1esCdhDICWa"
      },
      "execution_count": null,
      "outputs": []
    },
    {
      "cell_type": "markdown",
      "metadata": {
        "id": "Zkkx-jQwPb4H"
      },
      "source": [
        "Caja de confirmacion"
      ]
    },
    {
      "cell_type": "code",
      "execution_count": null,
      "metadata": {
        "id": "KHO1-NFePXYq"
      },
      "outputs": [],
      "source": [
        "# Hacemos el pedido a la URL\n",
        "driver = webdriver.Chrome('chromedriver',options=options)\n",
        "\n",
        "driver.get(url)\n",
        "# Click para activar al alerta\n",
        "driver.find_element(By.LINK_TEXT, \"See a sample confirm\").click()\n",
        "\n",
        "# Wait for the alert to be displayed and store it in a variable\n",
        "WebDriverWait(driver, 10).until(EC.alert_is_present())\n",
        "alert = driver.switch_to.alert\n",
        "\n",
        "print('Texto de la alerta: ', alert.text)\n",
        "\n",
        "# para cancelar\n",
        "alert.dismiss()"
      ]
    },
    {
      "cell_type": "code",
      "source": [
        "driver.close()"
      ],
      "metadata": {
        "id": "8RRoeH9CIHqr"
      },
      "execution_count": null,
      "outputs": []
    },
    {
      "cell_type": "markdown",
      "metadata": {
        "id": "6aYkpBoLP7LE"
      },
      "source": [
        "Prompt\n",
        "\n",
        "Son como las cajas de confirmacion pero tiene un input para texto"
      ]
    },
    {
      "cell_type": "code",
      "execution_count": null,
      "metadata": {
        "id": "gLfCeqJ5QA3k"
      },
      "outputs": [],
      "source": [
        "driver = webdriver.Chrome('chromedriver',options=options)\n",
        "\n",
        "# Hacemos el pedido a la URL\n",
        "driver.get(url)\n",
        "\n",
        "# Click para activar al alerta\n",
        "driver.find_element(By.LINK_TEXT, \"See a sample prompt\").click()\n",
        "\n",
        "# Esperamos\n",
        "WebDriverWait(driver, 10).until(EC.alert_is_present())\n",
        "alert = driver.switch_to.alert\n",
        "\n",
        "print('Texto de la alerta: ', alert.text)\n",
        "\n",
        "# Mensaje\n",
        "alert.send_keys(\"Python, obvio\")\n",
        "\n",
        "# Apretamos OK\n",
        "alert.accept()"
      ]
    },
    {
      "cell_type": "code",
      "source": [
        "driver.close()"
      ],
      "metadata": {
        "id": "SNVlWLC1io_2"
      },
      "execution_count": null,
      "outputs": []
    },
    {
      "cell_type": "markdown",
      "metadata": {
        "id": "pCfagH9EkTgZ"
      },
      "source": [
        "## **Ejemplo real: Spotify 🎵**\n",
        "\n",
        "Veamos como podemos extraer datos"
      ]
    },
    {
      "cell_type": "code",
      "execution_count": null,
      "metadata": {
        "id": "XMUMPPXGkTgb"
      },
      "outputs": [],
      "source": [
        "driver = webdriver.Chrome('chromedriver',options=options)\n",
        "\n",
        "url = 'https://open.spotify.com/'\n",
        "\n",
        "# Hacemos el pedido a la URL\n",
        "driver.get(url)\n",
        "driver.save_screenshot(f'Spotify0.png')\n",
        "\n",
        "#Scroll\n",
        "driver.execute_script(\"window.scrollTo(0, document.body.scrollHeight);\") \n",
        "driver.save_screenshot('spoty.png')"
      ]
    },
    {
      "cell_type": "code",
      "source": [
        "xpath_playlist = '//*[@id=\"main\"]/div/div[2]/div[3]/div[1]/div[2]/div[2]/div/div/div[2]/main/section/div/div/section[1]/div[2]/div[1]/div/div[2]/a/div'\n",
        "WebDriverWait(driver, 10).until(EC.element_to_be_clickable((By.XPATH, xpath_playlist))).click()"
      ],
      "metadata": {
        "id": "64ICm2IVOfT9"
      },
      "execution_count": null,
      "outputs": []
    },
    {
      "cell_type": "code",
      "source": [
        "driver.save_screenshot(f'playlist.png')\n"
      ],
      "metadata": {
        "id": "-a-zUIbILUxF"
      },
      "execution_count": null,
      "outputs": []
    },
    {
      "cell_type": "code",
      "execution_count": null,
      "metadata": {
        "id": "6Gz76IT_kTgn"
      },
      "outputs": [],
      "source": [
        "xpath_titulo = '//*[@id=\"main\"]/div/div[2]/div[3]/div[1]/div[2]/div[2]/div/div/div[2]/main/div/section/div[1]/div[2]/span/h1'\n",
        "titulo = driver.find_element(By.XPATH, xpath_titulo).text\n",
        "\n",
        "print(f\"Título de la playlist: {titulo}\")\n",
        "\n",
        "likes_xpath = '//*[@id=\"main\"]/div/div[2]/div[3]/div[1]/div[2]/div[2]/div/div/div[2]/main/div/section/div[1]/div[2]/div/span[1]'\n",
        "likes = driver.find_element(By.XPATH, likes_xpath).text\n",
        "\n",
        "print(f\"Cantidad de likes: {likes}\")"
      ]
    },
    {
      "cell_type": "markdown",
      "metadata": {
        "id": "CXC6dB4YkTgt"
      },
      "source": [
        "### <font color='red'>Ejercicio</font>\n",
        "Descargar también la duración de la playlist"
      ]
    },
    {
      "cell_type": "code",
      "execution_count": null,
      "metadata": {
        "id": "YXpbmYJer-vo"
      },
      "outputs": [],
      "source": [
        "## espacio para la resolucion\n"
      ]
    },
    {
      "cell_type": "markdown",
      "metadata": {
        "id": "qvb7i3EoVhsJ"
      },
      "source": [
        "## Ejemplo 3: Spotify\n",
        "\n",
        "Veamos como descargar mayores cantidades de datos y recorrer un sitio web"
      ]
    },
    {
      "cell_type": "code",
      "execution_count": null,
      "metadata": {
        "id": "IlvHT3zvVhsK"
      },
      "outputs": [],
      "source": [
        "driver = webdriver.Chrome('chromedriver',options=options)\n",
        "\n",
        "url = 'https://open.spotify.com/genre/funk'\n",
        "\n",
        "driver.get(url)\n",
        "\n",
        "WebDriverWait(driver, 10)"
      ]
    },
    {
      "cell_type": "code",
      "execution_count": null,
      "metadata": {
        "id": "3Q7SGoy9VhsK"
      },
      "outputs": [],
      "source": [
        "#Scroll\n",
        "driver.execute_script(\"window.scrollTo(0, document.body.scrollHeight);\") \n",
        "WebDriverWait(driver, 10)\n",
        "# Obtenemos los elementos. \n",
        "# Observen que en el xpath reconocí como era el link a una playlist y usé el operador `*` para generalizar a todas (`/div[*]/div/div[2]/a`).\n",
        "playlists_elements = driver.find_elements(By.XPATH, \"//*[@id='main']/div/div[2]/div[3]/div[1]/div[2]/div[2]/div/div/div[2]/main/div/section/div[2]/div/section/div[2]/div[*]/div/div[2]/a\")\n",
        "playlists_links = [playlist.get_attribute(\"href\") for playlist in playlists_elements]\n",
        "playlists_links"
      ]
    },
    {
      "cell_type": "markdown",
      "metadata": {
        "id": "SXIzr3I8VhsL"
      },
      "source": [
        "### Ejercicio\n",
        "Completar el siguiente código\n",
        "\n",
        "Tip: Fijense si les sirve la funcion *presence_of_element_located*\n",
        "* Link a la documentación: https://selenium-python.readthedocs.io/api.html?highlight=presence_of_element_located#selenium.webdriver.support.expected_conditions.presence_of_element_located"
      ]
    },
    {
      "cell_type": "code",
      "execution_count": null,
      "metadata": {
        "id": "eZ-FYpcSVhsL"
      },
      "outputs": [],
      "source": [
        "for url in playlists_links:\n",
        "  pass\n",
        "  # Obtener e imprimir el titulo y likes de cada playlist\n",
        "  # Utilizar un try catch por si alguna playlist falla.\n",
        "  # Para así no frenar todo el procesamiento por una playlist\n",
        "\n",
        "driver.close()"
      ]
    },
    {
      "cell_type": "markdown",
      "metadata": {
        "id": "BAJWTI1mVhsN"
      },
      "source": [
        "\n",
        "## Recursos útiles\n",
        "### videos\n",
        "\n",
        "* [Damian Sire: Videotutoriales de selenium con ejemplos de uso entretenidos](https://www.youtube.com/watch?v=iIYzkeQAgp8&list=PLVxN95ZVpcJsG8TQMozeOVBDkf7EYMuPz)\n",
        "* [Selenium FULL COURSE - Learn Selenium by creating a bot in 3 hours [2021]](https://youtu.be/6gxhcvrf2Jk)\n",
        "\n",
        "### Libros\n",
        "\n",
        "* [Web Scraping with Python, 2nd Edition](https://www.oreilly.com/library/view/web-scraping-with/9781491985564/)\n",
        "  * [Código asociado al libro](https://github.com/REMitchell/python-scraping)\n",
        "* [Hands-On Web Scraping with Python](https://www.amazon.com/Hands-Web-Scraping-Python-operations-ebook/dp/B07VFFYPGK)"
      ]
    }
  ],
  "metadata": {
    "colab": {
      "provenance": []
    },
    "instance_type": "ml.t3.medium",
    "kernelspec": {
      "display_name": "Python 3",
      "language": "python",
      "name": "python3"
    },
    "language_info": {
      "codemirror_mode": {
        "name": "ipython",
        "version": 3
      },
      "file_extension": ".py",
      "mimetype": "text/x-python",
      "name": "python",
      "nbconvert_exporter": "python",
      "pygments_lexer": "ipython3",
      "version": "3.8.8"
    }
  },
  "nbformat": 4,
  "nbformat_minor": 0
}